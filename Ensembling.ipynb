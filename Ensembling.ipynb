{
 "cells": [
  {
   "cell_type": "markdown",
   "metadata": {},
   "source": [
    "# Model ensembling using blending"
   ]
  },
  {
   "cell_type": "markdown",
   "metadata": {},
   "source": [
    "This is my solution for the kaggle competition:  https://www.kaggle.com/c/porto-seguro-safe-driver-prediction. This solution ranked 138 of 5170 (Top 3%). The goal of this competition is to find out whether a driver will make a claim or not. \n",
    "\n",
    "The predictions of the trained models are loaded. Weighted blending is used for ensembling. An optimization algorithm is used to find the best weights for blending using the out-of-fold predictions of the training set."
   ]
  },
  {
   "cell_type": "code",
   "execution_count": 30,
   "metadata": {
    "collapsed": true
   },
   "outputs": [],
   "source": [
    "import numpy as np\n",
    "import pandas as pd\n",
    "import matplotlib.pyplot as plt\n",
    "import seaborn as sns\n",
    "sns.set()"
   ]
  },
  {
   "cell_type": "code",
   "execution_count": 6,
   "metadata": {
    "collapsed": true
   },
   "outputs": [],
   "source": [
    "def gini(actual, pred, cmpcol = 0, sortcol = 1):\n",
    "    assert( len(actual) == len(pred) )\n",
    "    all = np.asarray(np.c_[ actual, pred, np.arange(len(actual)) ], dtype=np.float)\n",
    "    all = all[ np.lexsort((all[:,2], -1*all[:,1])) ]\n",
    "    totalLosses = all[:,0].sum()\n",
    "    giniSum = all[:,0].cumsum().sum() / totalLosses\n",
    " \n",
    "    giniSum -= (len(actual) + 1) / 2.\n",
    "    return giniSum / len(actual)\n",
    " \n",
    "def gini_normalized(a, p):\n",
    "    return gini(a, p) / gini(a, a)"
   ]
  },
  {
   "cell_type": "code",
   "execution_count": 9,
   "metadata": {
    "collapsed": true
   },
   "outputs": [],
   "source": [
    "label = ['target']\n",
    "\n",
    "df_train = pd.read_csv('train.csv')[label]"
   ]
  },
  {
   "cell_type": "markdown",
   "metadata": {},
   "source": [
    "# Loading predictions"
   ]
  },
  {
   "cell_type": "code",
   "execution_count": 10,
   "metadata": {
    "collapsed": true
   },
   "outputs": [],
   "source": [
    "def print_scores(df):\n",
    "    cols = []\n",
    "    for c in [col for col in df.columns if col not in ['id']]:\n",
    "        cols.append(c)\n",
    "        print('Score: {:0.4f}, Comb: {:0.4f}'.format(gini_normalized(df_train[label], df[c]),\n",
    "                                                     gini_normalized(df_train[label], np.mean(df[cols], axis = 1))\n",
    "                                                    ))"
   ]
  },
  {
   "cell_type": "markdown",
   "metadata": {},
   "source": [
    "## LightGBM"
   ]
  },
  {
   "cell_type": "code",
   "execution_count": 11,
   "metadata": {},
   "outputs": [
    {
     "name": "stdout",
     "output_type": "stream",
     "text": [
      "Score: 0.2868, Comb: 0.2868\n",
      "Score: 0.2851, Comb: 0.2872\n",
      "Score: 0.2854, Comb: 0.2874\n",
      "Score: 0.2858, Comb: 0.2876\n",
      "Score: 0.2854, Comb: 0.2877\n",
      "Score: 0.2870, Comb: 0.2880\n",
      "Score: 0.2861, Comb: 0.2881\n",
      "Score: 0.2865, Comb: 0.2882\n",
      "Score: 0.2868, Comb: 0.2883\n",
      "Score: 0.2869, Comb: 0.2884\n",
      "\n",
      "Combined\n",
      "Score: 0.2884\n"
     ]
    }
   ],
   "source": [
    "df_preds_lgb = pd.read_csv('Predictions/Base/lgb/test.csv')\n",
    "df_preds_train_lgb = pd.read_csv('Predictions/Base/lgb/train.csv')\n",
    "\n",
    "preds_lgb = np.mean(df_preds_lgb.drop('id', axis = 1).values, axis = 1)\n",
    "preds_tr_lgb = np.mean(df_preds_train_lgb.drop('id', axis = 1).values, axis = 1)\n",
    "\n",
    "print_scores(df_preds_train_lgb)\n",
    "print('\\nCombined')\n",
    "print('Score: {:0.4f}'.format(gini_normalized(df_train[label], preds_tr_lgb)))"
   ]
  },
  {
   "cell_type": "markdown",
   "metadata": {},
   "source": [
    "## XGBoost"
   ]
  },
  {
   "cell_type": "code",
   "execution_count": 12,
   "metadata": {},
   "outputs": [
    {
     "name": "stdout",
     "output_type": "stream",
     "text": [
      "Score: 0.2860, Comb: 0.2860\n",
      "Score: 0.2855, Comb: 0.2868\n",
      "Score: 0.2864, Comb: 0.2873\n",
      "Score: 0.2852, Comb: 0.2873\n",
      "Score: 0.2860, Comb: 0.2874\n",
      "\n",
      "Combined\n",
      "Score: 0.2874\n"
     ]
    }
   ],
   "source": [
    "df_preds_xgb = pd.read_csv('Predictions/Base/xgb/test.csv')\n",
    "df_preds_train_xgb = pd.read_csv('Predictions/Base/xgb/train.csv')\n",
    "\n",
    "preds_xgb = np.mean(df_preds_xgb.drop('id', axis = 1).values, axis = 1)\n",
    "preds_tr_xgb = np.mean(df_preds_train_xgb.drop('id', axis = 1).values, axis = 1)\n",
    "\n",
    "print_scores(df_preds_train_xgb)\n",
    "print('\\nCombined')\n",
    "print('Score: {:0.4f}'.format(gini_normalized(df_train[label], preds_tr_xgb)))"
   ]
  },
  {
   "cell_type": "markdown",
   "metadata": {},
   "source": [
    "## CatBoost"
   ]
  },
  {
   "cell_type": "code",
   "execution_count": 13,
   "metadata": {},
   "outputs": [
    {
     "name": "stdout",
     "output_type": "stream",
     "text": [
      "Score: 0.2843, Comb: 0.2843\n",
      "Score: 0.2856, Comb: 0.2862\n",
      "Score: 0.2843, Comb: 0.2863\n",
      "Score: 0.2841, Comb: 0.2863\n",
      "Score: 0.2845, Comb: 0.2864\n",
      "\n",
      "Combined\n",
      "Score: 0.2864\n"
     ]
    }
   ],
   "source": [
    "df_preds_cat = pd.read_csv('Predictions/Base/cat/test.csv')\n",
    "df_preds_train_cat = pd.read_csv('Predictions/Base/cat/train.csv')\n",
    "\n",
    "preds_cat = np.mean(df_preds_cat.drop('id', axis = 1).values, axis = 1)\n",
    "preds_tr_cat = np.mean(df_preds_train_cat.drop('id', axis = 1).values, axis = 1)\n",
    "\n",
    "print_scores(df_preds_train_cat)\n",
    "print('\\nCombined')\n",
    "print('Score: {:0.4f}'.format(gini_normalized(df_train[label], preds_tr_cat)))"
   ]
  },
  {
   "cell_type": "markdown",
   "metadata": {},
   "source": [
    "## Regularized Greedy Forest "
   ]
  },
  {
   "cell_type": "code",
   "execution_count": 14,
   "metadata": {},
   "outputs": [
    {
     "name": "stdout",
     "output_type": "stream",
     "text": [
      "Score: 0.2816, Comb: 0.2816\n",
      "Score: 0.2810, Comb: 0.2852\n",
      "Score: 0.2809, Comb: 0.2863\n",
      "Score: 0.2809, Comb: 0.2871\n",
      "Score: 0.2818, Comb: 0.2876\n",
      "Score: 0.2808, Comb: 0.2878\n",
      "Score: 0.2811, Comb: 0.2880\n",
      "Score: 0.2811, Comb: 0.2881\n",
      "Score: 0.2810, Comb: 0.2882\n",
      "Score: 0.2818, Comb: 0.2884\n",
      "Score: 0.2830, Comb: 0.2885\n",
      "Score: 0.2822, Comb: 0.2885\n",
      "\n",
      "Combined\n",
      "Score: 0.2885\n"
     ]
    }
   ],
   "source": [
    "df_preds_rgf = pd.read_csv('Predictions/Base/rgf/test.csv')\n",
    "df_preds_train_rgf = pd.read_csv('Predictions/Base/rgf/train.csv')\n",
    "\n",
    "preds_rgf = np.mean(df_preds_rgf.drop('id', axis = 1).values, axis = 1)\n",
    "preds_tr_rgf = np.mean(df_preds_train_rgf.drop('id', axis = 1).values, axis = 1)\n",
    "\n",
    "print_scores(df_preds_train_rgf)\n",
    "print('\\nCombined')\n",
    "print('Score: {:0.4f}'.format(gini_normalized(df_train[label], preds_tr_rgf)))"
   ]
  },
  {
   "cell_type": "markdown",
   "metadata": {},
   "source": [
    "## Field-Aware Factorization Machine"
   ]
  },
  {
   "cell_type": "code",
   "execution_count": 15,
   "metadata": {},
   "outputs": [
    {
     "name": "stdout",
     "output_type": "stream",
     "text": [
      "Score: 0.2845, Comb: 0.2845\n",
      "Score: 0.2837, Comb: 0.2852\n",
      "Score: 0.2832, Comb: 0.2853\n",
      "Score: 0.2813, Comb: 0.2849\n",
      "Score: 0.2845, Comb: 0.2853\n",
      "Score: 0.2844, Comb: 0.2855\n",
      "Score: 0.2849, Comb: 0.2858\n",
      "Score: 0.2837, Comb: 0.2858\n",
      "Score: 0.2838, Comb: 0.2858\n",
      "Score: 0.2828, Comb: 0.2857\n",
      "Score: 0.2857, Comb: 0.2859\n",
      "Score: 0.2852, Comb: 0.2859\n",
      "Score: 0.2854, Comb: 0.2860\n",
      "Score: 0.2847, Comb: 0.2860\n",
      "Score: 0.2847, Comb: 0.2860\n",
      "\n",
      "Combined\n",
      "Score: 0.2860\n"
     ]
    }
   ],
   "source": [
    "df_preds_ffm = pd.read_csv('Predictions/Base/ffm/test.csv')\n",
    "df_preds_train_ffm = pd.read_csv('Predictions/Base/ffm/train.csv')\n",
    "\n",
    "preds_ffm = np.mean(df_preds_ffm.drop('id', axis = 1).values, axis = 1)\n",
    "preds_tr_ffm = np.mean(df_preds_train_ffm.drop('id', axis = 1).values, axis = 1)\n",
    "\n",
    "print_scores(df_preds_train_ffm)\n",
    "print('\\nCombined')\n",
    "print('Score: {:0.4f}'.format(gini_normalized(df_train[label], preds_tr_ffm)))"
   ]
  },
  {
   "cell_type": "markdown",
   "metadata": {},
   "source": [
    "## External Kernels"
   ]
  },
  {
   "cell_type": "markdown",
   "metadata": {},
   "source": [
    "### Forza Baseline\n",
    "https://www.kaggle.com/the1owl/forza-baseline"
   ]
  },
  {
   "cell_type": "code",
   "execution_count": 16,
   "metadata": {},
   "outputs": [
    {
     "name": "stdout",
     "output_type": "stream",
     "text": [
      "Score: 0.2834, Comb: 0.2834\n",
      "Score: 0.2821, Comb: 0.2847\n",
      "Score: 0.2820, Comb: 0.2851\n",
      "Score: 0.2836, Comb: 0.2857\n",
      "\n",
      "Combined\n",
      "Score: 0.2857\n"
     ]
    }
   ],
   "source": [
    "df_preds_FB_lgb = pd.read_csv('Predictions/Base/FB_lgb/test.csv')\n",
    "df_preds_train_FB_lgb = pd.read_csv('Predictions/Base/FB_lgb/train.csv')\n",
    "\n",
    "preds_FB_lgb = np.mean(df_preds_FB_lgb.drop('id', axis = 1).values, axis = 1)\n",
    "preds_tr_FB_lgb = np.mean(df_preds_train_FB_lgb.drop('id', axis = 1).values, axis = 1)\n",
    "\n",
    "print_scores(df_preds_train_FB_lgb)\n",
    "\n",
    "print('\\nCombined')\n",
    "print('Score: {:0.4f}'.format(gini_normalized(df_train[label], preds_tr_FB_lgb)))"
   ]
  },
  {
   "cell_type": "code",
   "execution_count": 17,
   "metadata": {},
   "outputs": [
    {
     "name": "stdout",
     "output_type": "stream",
     "text": [
      "Score: 0.2851, Comb: 0.2851\n",
      "Score: 0.2871, Comb: 0.2875\n",
      "Score: 0.2855, Comb: 0.2877\n",
      "Score: 0.2844, Comb: 0.2875\n",
      "Score: 0.2862, Comb: 0.2876\n",
      "Score: 0.2860, Comb: 0.2876\n",
      "Score: 0.2864, Comb: 0.2877\n",
      "\n",
      "Combined\n",
      "Score: 0.2877\n"
     ]
    }
   ],
   "source": [
    "df_preds_FB_xgb = pd.read_csv('Predictions/Base/FB_xgb/test.csv')\n",
    "df_preds_train_FB_xgb = pd.read_csv('Predictions/Base/FB_xgb/train.csv')\n",
    "\n",
    "preds_FB_xgb = np.mean(df_preds_FB_xgb.drop('id', axis = 1).values, axis = 1)\n",
    "preds_tr_FB_xgb = np.mean(df_preds_train_FB_xgb.drop('id', axis = 1).values, axis = 1)\n",
    "\n",
    "print_scores(df_preds_train_FB_xgb)\n",
    "\n",
    "print('\\nCombined')\n",
    "print('Score: {:0.4f}'.format(gini_normalized(df_train[label], preds_tr_FB_xgb)))"
   ]
  },
  {
   "cell_type": "markdown",
   "metadata": {},
   "source": [
    "### Keras\n",
    "https://www.kaggle.com/tilii7/keras-averaging-runs-gini-early-stopping"
   ]
  },
  {
   "cell_type": "code",
   "execution_count": 18,
   "metadata": {},
   "outputs": [
    {
     "name": "stdout",
     "output_type": "stream",
     "text": [
      "Score: 0.2670, Comb: 0.2670\n",
      "Score: 0.2679, Comb: 0.2707\n",
      "Score: 0.2653, Comb: 0.2715\n",
      "Score: 0.2692, Comb: 0.2724\n",
      "Score: 0.2654, Comb: 0.2727\n",
      "Score: 0.2655, Comb: 0.2728\n",
      "Score: 0.2652, Comb: 0.2728\n",
      "\n",
      "Combined\n",
      "Score: 0.2728\n"
     ]
    }
   ],
   "source": [
    "df_preds_keras = pd.read_csv('Predictions/Base/keras/test.csv')\n",
    "df_preds_train_keras = pd.read_csv('Predictions/Base/keras/train.csv')\n",
    "\n",
    "preds_keras = np.mean(df_preds_keras.drop('id', axis = 1).values, axis = 1)\n",
    "preds_tr_keras = np.mean(df_preds_train_keras.drop('id', axis = 1).values, axis = 1)\n",
    "\n",
    "print_scores(df_preds_train_keras)\n",
    "\n",
    "print('\\nCombined')\n",
    "print('Score: {:0.4f}'.format(gini_normalized(df_train[label], preds_tr_keras)))"
   ]
  },
  {
   "cell_type": "markdown",
   "metadata": {},
   "source": [
    "### Regularized Greedy Forest with 20 non-linear features\n",
    "https://www.kaggle.com/lscoelho/rgf-with-20-nonlinear-features/code"
   ]
  },
  {
   "cell_type": "code",
   "execution_count": 19,
   "metadata": {},
   "outputs": [
    {
     "name": "stdout",
     "output_type": "stream",
     "text": [
      "Score: 0.2813, Comb: 0.2813\n",
      "Score: 0.2799, Comb: 0.2836\n",
      "Score: 0.2804, Comb: 0.2845\n",
      "Score: 0.2823, Comb: 0.2856\n",
      "Score: 0.2812, Comb: 0.2860\n",
      "Score: 0.2813, Comb: 0.2862\n",
      "Score: 0.2805, Comb: 0.2863\n",
      "Score: 0.2829, Comb: 0.2865\n",
      "\n",
      "Combined\n",
      "Score: 0.2865\n"
     ]
    }
   ],
   "source": [
    "df_preds_rgf20 = pd.read_csv('Predictions/Base/rgf20/test.csv')\n",
    "df_preds_train_rgf20 = pd.read_csv('Predictions/Base/rgf20/train.csv')\n",
    "\n",
    "preds_rgf20 = np.mean(df_preds_rgf20.drop('id', axis = 1).values, axis = 1)\n",
    "preds_tr_rgf20 = np.mean(df_preds_train_rgf20.drop('id', axis = 1).values, axis = 1)\n",
    "\n",
    "print_scores(df_preds_train_rgf20)\n",
    "\n",
    "print('\\nCombined')\n",
    "print('Score: {:0.4f}'.format(gini_normalized(df_train[label], preds_tr_rgf20)))"
   ]
  },
  {
   "cell_type": "markdown",
   "metadata": {},
   "source": [
    "# Correlations between model predictions"
   ]
  },
  {
   "cell_type": "code",
   "execution_count": 21,
   "metadata": {
    "collapsed": true
   },
   "outputs": [],
   "source": [
    "all_predictions = [preds_tr_lgb, preds_tr_xgb, preds_tr_cat, preds_tr_rgf, preds_tr_ffm,\n",
    "                   preds_tr_FB_lgb, preds_tr_FB_xgb,\n",
    "                   preds_tr_keras.ravel(), preds_tr_rgf20\n",
    "                  ]\n",
    "predictions = [preds_lgb, preds_xgb, preds_cat, preds_rgf, preds_ffm,\n",
    "               preds_FB_lgb, preds_FB_xgb,\n",
    "               preds_keras.ravel(), preds_rgf20\n",
    "              ]\n",
    "\n",
    "model_names = ['lgb', 'xgb', 'cat', 'rgf', 'ffm',\n",
    "               'FB lgb', 'FB xgb', \n",
    "               'keras', 'rgf20'\n",
    "              ]"
   ]
  },
  {
   "cell_type": "code",
   "execution_count": 22,
   "metadata": {},
   "outputs": [
    {
     "data": {
      "text/html": [
       "<div>\n",
       "<style>\n",
       "    .dataframe thead tr:only-child th {\n",
       "        text-align: right;\n",
       "    }\n",
       "\n",
       "    .dataframe thead th {\n",
       "        text-align: left;\n",
       "    }\n",
       "\n",
       "    .dataframe tbody tr th {\n",
       "        vertical-align: top;\n",
       "    }\n",
       "</style>\n",
       "<table border=\"1\" class=\"dataframe\">\n",
       "  <thead>\n",
       "    <tr style=\"text-align: right;\">\n",
       "      <th></th>\n",
       "      <th>lgb</th>\n",
       "      <th>xgb</th>\n",
       "      <th>cat</th>\n",
       "      <th>rgf</th>\n",
       "      <th>ffm</th>\n",
       "      <th>FB lgb</th>\n",
       "      <th>FB xgb</th>\n",
       "      <th>keras</th>\n",
       "      <th>rgf20</th>\n",
       "    </tr>\n",
       "  </thead>\n",
       "  <tbody>\n",
       "    <tr>\n",
       "      <th>0</th>\n",
       "      <td>0.050280</td>\n",
       "      <td>0.048304</td>\n",
       "      <td>0.046405</td>\n",
       "      <td>0.050150</td>\n",
       "      <td>0.048064</td>\n",
       "      <td>0.046784</td>\n",
       "      <td>0.045440</td>\n",
       "      <td>0.040082</td>\n",
       "      <td>0.041696</td>\n",
       "    </tr>\n",
       "    <tr>\n",
       "      <th>1</th>\n",
       "      <td>0.031170</td>\n",
       "      <td>0.030447</td>\n",
       "      <td>0.032324</td>\n",
       "      <td>0.031342</td>\n",
       "      <td>0.030527</td>\n",
       "      <td>0.031679</td>\n",
       "      <td>0.031354</td>\n",
       "      <td>0.036270</td>\n",
       "      <td>0.026810</td>\n",
       "    </tr>\n",
       "    <tr>\n",
       "      <th>2</th>\n",
       "      <td>0.018272</td>\n",
       "      <td>0.019857</td>\n",
       "      <td>0.017939</td>\n",
       "      <td>0.019965</td>\n",
       "      <td>0.019222</td>\n",
       "      <td>0.019440</td>\n",
       "      <td>0.020168</td>\n",
       "      <td>0.020319</td>\n",
       "      <td>0.021227</td>\n",
       "    </tr>\n",
       "    <tr>\n",
       "      <th>3</th>\n",
       "      <td>0.016012</td>\n",
       "      <td>0.015306</td>\n",
       "      <td>0.016163</td>\n",
       "      <td>0.016281</td>\n",
       "      <td>0.016881</td>\n",
       "      <td>0.014979</td>\n",
       "      <td>0.014867</td>\n",
       "      <td>0.017972</td>\n",
       "      <td>0.013859</td>\n",
       "    </tr>\n",
       "    <tr>\n",
       "      <th>4</th>\n",
       "      <td>0.028139</td>\n",
       "      <td>0.026832</td>\n",
       "      <td>0.032260</td>\n",
       "      <td>0.033558</td>\n",
       "      <td>0.032940</td>\n",
       "      <td>0.027628</td>\n",
       "      <td>0.027351</td>\n",
       "      <td>0.023519</td>\n",
       "      <td>0.035102</td>\n",
       "    </tr>\n",
       "  </tbody>\n",
       "</table>\n",
       "</div>"
      ],
      "text/plain": [
       "        lgb       xgb       cat       rgf       ffm    FB lgb    FB xgb  \\\n",
       "0  0.050280  0.048304  0.046405  0.050150  0.048064  0.046784  0.045440   \n",
       "1  0.031170  0.030447  0.032324  0.031342  0.030527  0.031679  0.031354   \n",
       "2  0.018272  0.019857  0.017939  0.019965  0.019222  0.019440  0.020168   \n",
       "3  0.016012  0.015306  0.016163  0.016281  0.016881  0.014979  0.014867   \n",
       "4  0.028139  0.026832  0.032260  0.033558  0.032940  0.027628  0.027351   \n",
       "\n",
       "      keras     rgf20  \n",
       "0  0.040082  0.041696  \n",
       "1  0.036270  0.026810  \n",
       "2  0.020319  0.021227  \n",
       "3  0.017972  0.013859  \n",
       "4  0.023519  0.035102  "
      ]
     },
     "execution_count": 22,
     "metadata": {},
     "output_type": "execute_result"
    }
   ],
   "source": [
    "df_predictions = pd.DataFrame(all_predictions).transpose()\n",
    "df_predictions.columns = model_names\n",
    "df_predictions.head()"
   ]
  },
  {
   "cell_type": "code",
   "execution_count": 31,
   "metadata": {},
   "outputs": [
    {
     "data": {
      "text/plain": [
       "<matplotlib.figure.Figure at 0x1114f5e10>"
      ]
     },
     "metadata": {},
     "output_type": "display_data"
    },
    {
     "data": {
      "image/png": "[encoded data removed]",
      "text/plain": [
       "<matplotlib.figure.Figure at 0x114b59fd0>"
      ]
     },
     "metadata": {},
     "output_type": "display_data"
    }
   ],
   "source": [
    "df_predictions = pd.DataFrame(all_predictions).transpose()\n",
    "df_predictions.columns = model_names\n",
    "df_predictions.head()\n",
    "plt.figure(figsize = (10, 10))\n",
    "\n",
    "corr = df_predictions.corr()\n",
    "cmap = sns.diverging_palette(220, 10, as_cmap=True)\n",
    "sns.heatmap(corr, vmax=1, center=0.9, annot=True, cmap=cmap, \n",
    "            square=True, \n",
    "            linewidths=.5, cbar_kws={\"shrink\": .5})\n",
    "\n",
    "plt.show()"
   ]
  },
  {
   "cell_type": "markdown",
   "metadata": {},
   "source": [
    "# Blending scores"
   ]
  },
  {
   "cell_type": "code",
   "execution_count": 32,
   "metadata": {
    "collapsed": true
   },
   "outputs": [],
   "source": [
    "def find_best_weights(predictions, real, metric, init_weights = None):\n",
    "    import numpy as np\n",
    "    le = len(predictions)\n",
    "    assert(np.shape(predictions)[1] == len(real))\n",
    "    \n",
    "    if init_weights == None:\n",
    "        weights = np.array([1.0] * le)\n",
    "    else:\n",
    "        assert(len(init_weights) == le)\n",
    "        weights = init_weights\n",
    "        \n",
    "    for step in [0.5, 0.3, 0.1, 0.05, 0.01]:\n",
    "        score, best_score = -1, 0\n",
    "        while(best_score > score):\n",
    "            score = best_score\n",
    "            best_score = metric(real, np.average(predictions, weights=weights, axis=0))\n",
    "            best_index, best_step = -1, 0.0\n",
    "            for j in range(le):\n",
    "                delta = np.array([(0 if k != j else step) for k in range(le)])\n",
    "                s = metric(real, np.average(predictions, weights=weights+delta, axis=0))\n",
    "                if(s > best_score):\n",
    "                    best_index, best_score, best_step = j, s, step\n",
    "                    continue\n",
    "                if weights[j] - step >= 0:\n",
    "                    s = metric(real, np.average(predictions, weights=weights-delta, axis=0))\n",
    "                    if(s > best_score):\n",
    "                        best_index, best_score, best_step = j, s, -step\n",
    "            if best_score > score:\n",
    "                weights[best_index] += best_step\n",
    "    return weights"
   ]
  },
  {
   "cell_type": "code",
   "execution_count": 33,
   "metadata": {},
   "outputs": [
    {
     "name": "stdout",
     "output_type": "stream",
     "text": [
      "blending weights:\n",
      "2.24 lgb\n",
      "0.00 xgb\n",
      "0.00 cat\n",
      "0.48 rgf\n",
      "1.79 ffm\n",
      "0.00 FB lgb\n",
      "1.05 FB xgb\n",
      "1.00 keras\n",
      "1.75 rgf20\n",
      "-----------------\n",
      "Comb. Score: 0.2917\n"
     ]
    }
   ],
   "source": [
    "blend_weights = find_best_weights(all_predictions, real = df_train[label], metric = gini_normalized,\n",
    "                                  #init_weights = [1.0, 1.0, 1.0, 1.0, 1.0, 1.0, 1.0, 1.0, 1.0]\n",
    "                                 )\n",
    "\n",
    "print('blending weights:')\n",
    "for n, w in zip(model_names, blend_weights):\n",
    "    print('{:0.2f} {}'.format(w, n))\n",
    "print('-----------------')\n",
    "print('Comb. Score: {:0.4f}'.format(gini_normalized(df_train[label], \n",
    "                                                    np.average(all_predictions, \n",
    "                                                               weights = blend_weights, axis = 0))))"
   ]
  },
  {
   "cell_type": "markdown",
   "metadata": {},
   "source": [
    "# Final prediction"
   ]
  },
  {
   "cell_type": "code",
   "execution_count": 34,
   "metadata": {},
   "outputs": [
    {
     "name": "stdout",
     "output_type": "stream",
     "text": [
      "Mean of lgb: \t 0.03638 +- 0.01965\n",
      "Mean of xgb: \t 0.03646 +- 0.01994\n",
      "Mean of cat: \t 0.03641 +- 0.01981\n",
      "Mean of rgf: \t 0.03646 +- 0.01932\n",
      "Mean of ffm: \t 0.03645 +- 0.02071\n",
      "Mean of FB lgb: \t 0.03646 +- 0.01952\n",
      "Mean of FB xgb: \t 0.03644 +- 0.02011\n",
      "Mean of keras: \t 0.03643 +- 0.01819\n",
      "Mean of rgf20: \t 0.03672 +- 0.01890\n"
     ]
    },
    {
     "data": {
      "image/png": "[encoded data removed]",
      "text/plain": [
       "<matplotlib.figure.Figure at 0x1648cd710>"
      ]
     },
     "metadata": {},
     "output_type": "display_data"
    }
   ],
   "source": [
    "for i, p in enumerate(predictions):\n",
    "    print('Mean of {}: \\t {:0.5f} +- {:0.5f}'.format(model_names[i], np.mean(p), np.std(p)))\n",
    "    plt.hist(p, range = (0, 0.15), label = model_names[i], bins = 50, histtype = 'bar', alpha = 0.3)\n",
    "#plt.hist((preds_ups_tr_xgb -0.217)/4.2+0.036, range=(0, 0.5), label = 'test', alpha = 0.5, bins = 50)\n",
    "plt.legend()\n",
    "plt.show() "
   ]
  },
  {
   "cell_type": "code",
   "execution_count": 36,
   "metadata": {},
   "outputs": [],
   "source": [
    "df_test = pd.read_csv('sample_submission.csv')\n",
    "df_test.loc[:, 'target'] = 0\n",
    "\n",
    "df_submission = df_test[['id'] + label].copy()\n",
    "df_submission.loc[:, label] = np.average(predictions, weights = blend_weights, axis = 0)\n",
    "\n",
    "df_submission.to_csv('Submissions/submission.csv.gz', index = False, compression = 'gzip', float_format='%.6f')"
   ]
  },
  {
   "cell_type": "code",
   "execution_count": 37,
   "metadata": {},
   "outputs": [
    {
     "data": {
      "image/png": "[encoded data removed]",
      "text/plain": [
       "<matplotlib.figure.Figure at 0x116a4df28>"
      ]
     },
     "metadata": {},
     "output_type": "display_data"
    }
   ],
   "source": [
    "plt.hist(np.average(predictions, weights = blend_weights, axis = 0), label = 'test', range = (0, 0.15), \n",
    "         bins = 50, alpha = 0.5, normed = True)\n",
    "plt.hist(np.average(all_predictions, weights = blend_weights, axis = 0), label = 'validation', range = (0, 0.15), \n",
    "         bins = 50, alpha = 0.5, normed = True)\n",
    "plt.legend()\n",
    "plt.xlabel('prediction')\n",
    "plt.ylabel('normed count')\n",
    "plt.show()"
   ]
  },
  {
   "cell_type": "code",
   "execution_count": 38,
   "metadata": {
    "collapsed": true
   },
   "outputs": [],
   "source": [
    "df_test.loc[:, 'target'] = 0\n",
    "\n",
    "df_submission = df_test[['id'] + label].copy()\n",
    "for i, p in enumerate(predictions):\n",
    "    df_submission.loc[:, label] = p\n",
    "    df_submission.to_csv('Submissions/submission_{}.csv.gz'.format(model_names[i]), index = False, \n",
    "                         compression = 'gzip', float_format='%.6f')"
   ]
  },
  {
   "cell_type": "markdown",
   "metadata": {},
   "source": [
    "# Submission with kaggle mix\n",
    "https://www.kaggle.com/vpaslay/lb-0-287-porto-seguro-mix\n",
    "The kagglemix is most likely overfit on the public leaderboard. Nonetheless one final submission is averaged with this kagglemix for safety reasons."
   ]
  },
  {
   "cell_type": "code",
   "execution_count": 39,
   "metadata": {},
   "outputs": [
    {
     "data": {
      "text/html": [
       "<div>\n",
       "<style>\n",
       "    .dataframe thead tr:only-child th {\n",
       "        text-align: right;\n",
       "    }\n",
       "\n",
       "    .dataframe thead th {\n",
       "        text-align: left;\n",
       "    }\n",
       "\n",
       "    .dataframe tbody tr th {\n",
       "        vertical-align: top;\n",
       "    }\n",
       "</style>\n",
       "<table border=\"1\" class=\"dataframe\">\n",
       "  <thead>\n",
       "    <tr style=\"text-align: right;\">\n",
       "      <th></th>\n",
       "      <th>id</th>\n",
       "      <th>target</th>\n",
       "    </tr>\n",
       "  </thead>\n",
       "  <tbody>\n",
       "    <tr>\n",
       "      <th>0</th>\n",
       "      <td>0</td>\n",
       "      <td>0.319118</td>\n",
       "    </tr>\n",
       "    <tr>\n",
       "      <th>1</th>\n",
       "      <td>1</td>\n",
       "      <td>0.282084</td>\n",
       "    </tr>\n",
       "    <tr>\n",
       "      <th>2</th>\n",
       "      <td>2</td>\n",
       "      <td>0.217847</td>\n",
       "    </tr>\n",
       "    <tr>\n",
       "      <th>3</th>\n",
       "      <td>3</td>\n",
       "      <td>0.040522</td>\n",
       "    </tr>\n",
       "    <tr>\n",
       "      <th>4</th>\n",
       "      <td>4</td>\n",
       "      <td>0.563168</td>\n",
       "    </tr>\n",
       "  </tbody>\n",
       "</table>\n",
       "</div>"
      ],
      "text/plain": [
       "   id    target\n",
       "0   0  0.319118\n",
       "1   1  0.282084\n",
       "2   2  0.217847\n",
       "3   3  0.040522\n",
       "4   4  0.563168"
      ]
     },
     "execution_count": 39,
     "metadata": {},
     "output_type": "execute_result"
    }
   ],
   "source": [
    "kagglemix = pd.read_csv('Predictions/kagglemix.csv')\n",
    "kagglemix.head()"
   ]
  },
  {
   "cell_type": "code",
   "execution_count": 40,
   "metadata": {},
   "outputs": [
    {
     "name": "stdout",
     "output_type": "stream",
     "text": [
      "Mean of kagglemix: \t 0.50000 +- 0.28453\n",
      "Mean of my models: \t 0.50000 +- 0.28868\n"
     ]
    },
    {
     "data": {
      "image/png": "[encoded data removed]",
      "text/plain": [
       "<matplotlib.figure.Figure at 0x119394f60>"
      ]
     },
     "metadata": {},
     "output_type": "display_data"
    }
   ],
   "source": [
    "from scipy.stats import rankdata\n",
    "\n",
    "print('Mean of kagglemix: \\t {:0.5f} +- {:0.5f}'.format(np.mean(kagglemix['target'].values), np.std(kagglemix['target'].values)))\n",
    "plt.hist(kagglemix['target'].values, label = 'kagglemix', bins = 50, histtype = 'bar', alpha = 0.3)\n",
    "\n",
    "predictions_ranked = rankdata(np.average(predictions, weights = blend_weights, axis = 0))/np.shape(predictions)[1]\n",
    "print('Mean of my models: \\t {:0.5f} +- {:0.5f}'.format(np.mean(predictions_ranked), np.std(predictions_ranked)))\n",
    "plt.hist(predictions_ranked, label = 'my models', bins = 50, histtype = 'bar', alpha = 0.3)\n",
    "\n",
    "plt.hist(np.mean([kagglemix['target'].values, predictions_ranked], axis = 0), label = 'combined', bins = 50, histtype = 'bar', alpha = 0.3)\n",
    "\n",
    "plt.legend()\n",
    "plt.show() "
   ]
  },
  {
   "cell_type": "code",
   "execution_count": 41,
   "metadata": {
    "collapsed": true
   },
   "outputs": [],
   "source": [
    "df_test.loc[:, 'target'] = 0\n",
    "\n",
    "df_submission2 = df_test[['id'] + label].copy()\n",
    "df_submission2.loc[:, label] = np.mean([predictions_ranked, kagglemix['target'].values], axis = 0)\n",
    "\n",
    "df_submission2.to_csv('submission_kagglemix.csv.gz', index = False, compression = 'gzip', float_format='%.6f')"
   ]
  }
 ],
 "metadata": {
  "kernelspec": {
   "display_name": "Python 3",
   "language": "python",
   "name": "python3"
  },
  "language_info": {
   "codemirror_mode": {
    "name": "ipython",
    "version": 3
   },
   "file_extension": ".py",
   "mimetype": "text/x-python",
   "name": "python",
   "nbconvert_exporter": "python",
   "pygments_lexer": "ipython3",
   "version": "3.6.1"
  }
 },
 "nbformat": 4,
 "nbformat_minor": 2
}
